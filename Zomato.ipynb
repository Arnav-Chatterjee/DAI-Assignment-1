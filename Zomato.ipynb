{
 "cells": [
  {
   "cell_type": "code",
   "execution_count": 1,
   "metadata": {},
   "outputs": [
    {
     "ename": "ModuleNotFoundError",
     "evalue": "No module named 'pandas'",
     "output_type": "error",
     "traceback": [
      "\u001b[1;31m---------------------------------------------------------------------------\u001b[0m",
      "\u001b[1;31mModuleNotFoundError\u001b[0m                       Traceback (most recent call last)",
      "Cell \u001b[1;32mIn[1], line 4\u001b[0m\n\u001b[0;32m      1\u001b[0m \u001b[38;5;66;03m# Univariate and Bivariate Analysis in Python\u001b[39;00m\n\u001b[0;32m      2\u001b[0m \n\u001b[0;32m      3\u001b[0m \u001b[38;5;66;03m# Import necessary libraries\u001b[39;00m\n\u001b[1;32m----> 4\u001b[0m \u001b[38;5;28;01mimport\u001b[39;00m \u001b[38;5;21;01mpandas\u001b[39;00m \u001b[38;5;28;01mas\u001b[39;00m \u001b[38;5;21;01mpd\u001b[39;00m         \u001b[38;5;66;03m# For data manipulation\u001b[39;00m\n\u001b[0;32m      5\u001b[0m \u001b[38;5;28;01mimport\u001b[39;00m \u001b[38;5;21;01mnumpy\u001b[39;00m \u001b[38;5;28;01mas\u001b[39;00m \u001b[38;5;21;01mnp\u001b[39;00m          \u001b[38;5;66;03m# For numerical computations\u001b[39;00m\n\u001b[0;32m      6\u001b[0m \u001b[38;5;28;01mimport\u001b[39;00m \u001b[38;5;21;01mseaborn\u001b[39;00m \u001b[38;5;28;01mas\u001b[39;00m \u001b[38;5;21;01msns\u001b[39;00m       \u001b[38;5;66;03m# For visualization\u001b[39;00m\n",
      "\u001b[1;31mModuleNotFoundError\u001b[0m: No module named 'pandas'"
     ]
    }
   ],
   "source": [
    "# Univariate and Bivariate Analysis in Python\n",
    "\n",
    "# Import necessary libraries\n",
    "import pandas as pd         # For data manipulation\n",
    "import numpy as np          # For numerical computations\n",
    "import seaborn as sns       # For visualization\n",
    "import matplotlib.pyplot as plt  # For plotting\n",
    "import warnings\n",
    "warnings.filterwarnings(\"ignore\")  # Ignore warnings for cleaner output\n",
    "\n",
    "# Set the style for plots\n",
    "sns.set_style(\"whitegrid\")\n",
    "\n",
    "# Load the dataset\n",
    "df = pd.read_csv(\"zomato_dataset.csv\")\n",
    "\n",
    "# Display the first few rows of the dataset\n",
    "df.head()"
   ]
  },
  {
   "cell_type": "markdown",
   "metadata": {},
   "source": [
    "## Step 1: Data Overview\n",
    "\n",
    "Before diving into analysis, let's inspect the dataset."
   ]
  },
  {
   "cell_type": "code",
   "execution_count": 7,
   "metadata": {},
   "outputs": [
    {
     "ename": "NameError",
     "evalue": "name 'df' is not defined",
     "output_type": "error",
     "traceback": [
      "\u001b[1;31m---------------------------------------------------------------------------\u001b[0m",
      "\u001b[1;31mNameError\u001b[0m                                 Traceback (most recent call last)",
      "Cell \u001b[1;32mIn[7], line 2\u001b[0m\n\u001b[0;32m      1\u001b[0m \u001b[38;5;66;03m# Get basic information about the dataset\u001b[39;00m\n\u001b[1;32m----> 2\u001b[0m \u001b[43mdf\u001b[49m\u001b[38;5;241m.\u001b[39minfo()\n\u001b[0;32m      4\u001b[0m \u001b[38;5;66;03m# Summary statistics of numerical variables\u001b[39;00m\n\u001b[0;32m      5\u001b[0m df\u001b[38;5;241m.\u001b[39mdescribe()\n",
      "\u001b[1;31mNameError\u001b[0m: name 'df' is not defined"
     ]
    }
   ],
   "source": [
    "# Get basic information about the dataset\n",
    "df.info()\n",
    "\n",
    "# Summary statistics of numerical variables\n",
    "df.describe()\n",
    "\n",
    "# Check for missing values\n",
    "print(\"\\nMissing values in each column:\")\n",
    "print(df.isnull().sum())\n",
    "\n",
    "# Display data types of each column\n",
    "print(\"\\nData types of columns:\")\n",
    "print(df.dtypes)"
   ]
  },
  {
   "cell_type": "markdown",
   "metadata": {},
   "source": [
    "## Step 2: Univariate Analysis\n",
    "1️. Distribution of Numerical Variables\n",
    "We analyze each numerical column's distribution using histograms and kernel density estimation (KDE) plots."
   ]
  },
  {
   "cell_type": "code",
   "execution_count": null,
   "metadata": {},
   "outputs": [],
   "source": [
    "# Plot histograms with KDE for numerical variables\n",
    "df.select_dtypes(include=[np.number]).hist(figsize=(12, 8), bins=30, edgecolor=\"black\")\n",
    "plt.suptitle(\"Distribution of Numerical Features\", fontsize=16)\n",
    "plt.show()"
   ]
  },
  {
   "cell_type": "code",
   "execution_count": null,
   "metadata": {},
   "outputs": [],
   "source": [
    "# KDE plots for numerical features\n",
    "plt.figure(figsize=(12, 6))\n",
    "for column in df.select_dtypes(include=[np.number]).columns:\n",
    "    sns.kdeplot(df[column], label=column, shade=True)\n",
    "plt.title(\"Kernel Density Estimation (KDE) Plots of Numerical Features\")\n",
    "plt.legend()\n",
    "plt.show()"
   ]
  },
  {
   "cell_type": "markdown",
   "metadata": {},
   "source": [
    "2️. Box Plots (Detect Outliers)\n",
    "Box plots help in identifying outliers."
   ]
  },
  {
   "cell_type": "markdown",
   "metadata": {},
   "source": [
    "# Box plots for numerical variables\n",
    "plt.figure(figsize=(12, 6))\n",
    "sns.boxplot(data=df)\n",
    "plt.xticks(rotation=45)\n",
    "plt.title(\"Box Plot of Numerical Features (Outlier Detection)\")\n",
    "plt.show()"
   ]
  },
  {
   "cell_type": "markdown",
   "metadata": {},
   "source": [
    "3️. Violin Plots (Distribution + Outliers)\n",
    "Violin plots combine KDE plots with box plots"
   ]
  },
  {
   "cell_type": "code",
   "execution_count": null,
   "metadata": {},
   "outputs": [],
   "source": [
    "# Violin plot for numerical features\n",
    "plt.figure(figsize=(12, 6))\n",
    "sns.violinplot(data=df)\n",
    "plt.xticks(rotation=45)\n",
    "plt.title(\"Violin Plot of Numerical Features\")\n",
    "plt.show()"
   ]
  },
  {
   "cell_type": "markdown",
   "metadata": {},
   "source": [
    "4️. Count Plots for Categorical Variables\n",
    "For categorical variables, count plots help visualize category distribution."
   ]
  },
  {
   "cell_type": "code",
   "execution_count": null,
   "metadata": {},
   "outputs": [],
   "source": [
    "# Plot count plots for categorical variables\n",
    "categorical_columns = df.select_dtypes(include=['object']).columns\n",
    "plt.figure(figsize=(12, 6))\n",
    "for i, col in enumerate(categorical_columns):\n",
    "    plt.figure(figsize=(8, 4))\n",
    "    sns.countplot(y=df[col], order=df[col].value_counts().index, palette=\"coolwarm\")\n",
    "    plt.title(f\"Count Plot for {col}\")\n",
    "    plt.xlabel(\"Count\")\n",
    "    plt.ylabel(col)\n",
    "    plt.show()"
   ]
  },
  {
   "cell_type": "markdown",
   "metadata": {},
   "source": [
    "## Step 3: Bivariate Analysis\n",
    "1️. Correlation Matrix (Numerical Variables)\n",
    "Heatmaps show the correlation between numerical features."
   ]
  },
  {
   "cell_type": "code",
   "execution_count": null,
   "metadata": {},
   "outputs": [],
   "source": [
    "# Compute correlation matrix\n",
    "plt.figure(figsize=(10, 6))\n",
    "sns.heatmap(df.corr(), annot=True, cmap=\"coolwarm\", fmt=\".2f\")\n",
    "plt.title(\"Correlation Heatmap\")\n",
    "plt.show()"
   ]
  },
  {
   "cell_type": "markdown",
   "metadata": {},
   "source": [
    "2️. Pair Plots (Visualizing Relationships)\n",
    "Pair plots help visualize relationships between multiple numerical variables."
   ]
  },
  {
   "cell_type": "code",
   "execution_count": null,
   "metadata": {},
   "outputs": [],
   "source": [
    "# Pairplot for numerical variables\n",
    "sns.pairplot(df)\n",
    "plt.show()"
   ]
  },
  {
   "cell_type": "markdown",
   "metadata": {},
   "source": [
    "3️. Scatter Plots (Numerical vs Numerical)\n",
    "Scatter plots show relationships between two numerical variables."
   ]
  },
  {
   "cell_type": "code",
   "execution_count": null,
   "metadata": {},
   "outputs": [],
   "source": [
    "# Replace 'feature_x' and 'feature_y' with actual column names\n",
    "plt.figure(figsize=(8, 6))\n",
    "sns.scatterplot(x=df[\"feature_x\"], y=df[\"feature_y\"], alpha=0.7)\n",
    "plt.title(\"Scatter Plot: feature_x vs feature_y\")\n",
    "plt.xlabel(\"feature_x\")\n",
    "plt.ylabel(\"feature_y\")\n",
    "plt.show()"
   ]
  },
  {
   "cell_type": "markdown",
   "metadata": {},
   "source": [
    "4️. Box Plots (Categorical vs Numerical)\n",
    "Box plots help analyze the distribution of numerical values across different categories."
   ]
  },
  {
   "cell_type": "code",
   "execution_count": null,
   "metadata": {},
   "outputs": [],
   "source": [
    "# Replace 'categorical_column' and 'numerical_column' with actual column names\n",
    "plt.figure(figsize=(10, 6))\n",
    "sns.boxplot(x=df[\"categorical_column\"], y=df[\"numerical_column\"], palette=\"Set2\")\n",
    "plt.xticks(rotation=45)\n",
    "plt.title(\"Box Plot: categorical_column vs numerical_column\")\n",
    "plt.show()"
   ]
  },
  {
   "cell_type": "markdown",
   "metadata": {},
   "source": [
    "5️. Violin Plots (Categorical vs Numerical)\n",
    "Violin plots combine KDE with box plots for category-wise numerical analysis."
   ]
  },
  {
   "cell_type": "code",
   "execution_count": null,
   "metadata": {},
   "outputs": [],
   "source": [
    "# Violin plot for categorical vs numerical feature\n",
    "plt.figure(figsize=(10, 6))\n",
    "sns.violinplot(x=df[\"categorical_column\"], y=df[\"numerical_column\"], palette=\"coolwarm\")\n",
    "plt.xticks(rotation=45)\n",
    "plt.title(\"Violin Plot: categorical_column vs numerical_column\")\n",
    "plt.show()"
   ]
  },
  {
   "cell_type": "markdown",
   "metadata": {},
   "source": [
    "6️. Bar Plots (Categorical vs Numerical Aggregation)\n",
    "Bar plots help analyze the mean/median of numerical features for different categories."
   ]
  },
  {
   "cell_type": "code",
   "execution_count": null,
   "metadata": {},
   "outputs": [],
   "source": [
    "# Bar plot of categorical variable vs numerical variable (mean)\n",
    "plt.figure(figsize=(12, 6))\n",
    "sns.barplot(x=df[\"categorical_column\"], y=df[\"numerical_column\"], estimator=np.mean, ci=None, palette=\"Blues\")\n",
    "plt.xticks(rotation=45)\n",
    "plt.title(\"Bar Plot: Mean of numerical_column by categorical_column\")\n",
    "plt.show()"
   ]
  },
  {
   "cell_type": "markdown",
   "metadata": {},
   "source": [
    "### **Summary of Findings**\n",
    "- **Univariate Analysis:**\n",
    "  - Histograms and KDE plots showed the distribution of numerical features.\n",
    "  - Box plots and violin plots helped detect outliers.\n",
    "  - Count plots revealed the frequency distribution of categorical variables.\n",
    "  \n",
    "- **Bivariate Analysis:**\n",
    "  - Heatmaps identified highly correlated numerical features.\n",
    "  - Scatter plots showed relationships between numerical variables.\n",
    "  - Box and violin plots revealed category-wise variations in numerical features.\n",
    "  - Bar plots summarized numerical variables based on categorical groupings.\n",
    "  \n",
    "- **Key Takeaways:**\n",
    "  - Strong correlations between variables suggest potential feature engineering.\n",
    "  - Outliers were detected in some numerical variables.\n",
    "  - Certain categorical groups had significantly different numerical values.\n",
    "  \n",
    "- **Next Steps:**\n",
    "  - Handle missing values if necessary.\n",
    "  - Remove or transform outliers if they affect model performance.\n",
    "  - Perform feature engineering based on insights.\n"
   ]
  }
 ],
 "metadata": {
  "kernelspec": {
   "display_name": "Python 3",
   "language": "python",
   "name": "python3"
  },
  "language_info": {
   "codemirror_mode": {
    "name": "ipython",
    "version": 3
   },
   "file_extension": ".py",
   "mimetype": "text/x-python",
   "name": "python",
   "nbconvert_exporter": "python",
   "pygments_lexer": "ipython3",
   "version": "3.11.9"
  }
 },
 "nbformat": 4,
 "nbformat_minor": 2
}
